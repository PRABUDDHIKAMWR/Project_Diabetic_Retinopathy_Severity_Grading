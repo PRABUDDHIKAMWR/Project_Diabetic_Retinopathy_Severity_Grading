{
 "cells": [
  {
   "cell_type": "code",
   "execution_count": null,
   "metadata": {},
   "outputs": [],
   "source": [
    "import cv2 as cv\n",
    "import os\n",
    "import matplotlib.pyplot as plt\n",
    "\n",
    "# Directory containing your images\n",
    "image_dir = r\"E:/trainingset/archive/resized_train/resized_train\"\n",
    "\n",
    "try:\n",
    "    # Loop over all images in the directory\n",
    "    for filename in os.listdir(image_dir):\n",
    "        # Only process .jpg files\n",
    "        if filename.endswith(\".jpeg\"):\n",
    "            print(filename)\n",
    "            # Load the image\n",
    "            image_path = image_dir+\"/\"+filename\n",
    "            image = cv.imread(image_path, cv.IMREAD_COLOR)\n",
    "\n",
    "            # Preprocess the image (example: convert to grayscale)\n",
    "            gray = cv.cvtColor(image, cv.COLOR_BGR2GRAY)\n",
    "            gray = gray.astype('uint8') # convert to uint8\n",
    "\n",
    "            image_dir2 = r\"E:/trainingset/new_img/new_img\"\n",
    "            image_path2 = image_dir2+\"/\"+ filename\n",
    "            # Save the preprocessed image back to the directory\n",
    "            cv.imwrite(image_path2, gray)\n",
    "        \n",
    "except KeyboardInterrupt:\n",
    "    print(\"KeyboardInterrupt detected. Stopping the loop...\")"
   ]
  }
 ],
 "metadata": {
  "language_info": {
   "name": "python"
  },
  "orig_nbformat": 4
 },
 "nbformat": 4,
 "nbformat_minor": 2
}
