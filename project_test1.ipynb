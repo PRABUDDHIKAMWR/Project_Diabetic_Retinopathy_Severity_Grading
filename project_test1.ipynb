{
 "cells": [
  {
   "cell_type": "markdown",
   "metadata": {},
   "source": [
    "Import necessary libraries"
   ]
  },
  {
   "cell_type": "code",
   "execution_count": 6,
   "metadata": {},
   "outputs": [],
   "source": [
    "import numpy as np\n",
    "import pandas as pd\n",
    "import matplotlib.pyplot as plt\n",
    "import cv2\n",
    "from sklearn.model_selection import train_test_split\n",
    "from keras.models import Sequential\n",
    "from keras.layers import Dense, Dropout, Flatten\n",
    "from keras.layers import Conv2D, MaxPooling2D\n"
   ]
  },
  {
   "cell_type": "markdown",
   "metadata": {},
   "source": [
    "Load the dataset"
   ]
  },
  {
   "cell_type": "code",
   "execution_count": 8,
   "metadata": {},
   "outputs": [],
   "source": [
    "data = pd.read_csv(r\"E:\\trainingset\\archive\\trainLabels.csv\")"
   ]
  },
  {
   "cell_type": "markdown",
   "metadata": {},
   "source": [
    "Preprocess the images"
   ]
  },
  {
   "cell_type": "code",
   "execution_count": 10,
   "metadata": {},
   "outputs": [],
   "source": [
    "def preprocess(image):\n",
    "    image = cv2.cvtColor(image, cv2.COLOR_BGR2GRAY)\n",
    "    image = cv2.resize(image, (128,128))\n",
    "    return image\n",
    "\n",
    "images = []\n",
    "labels = []\n",
    "\n",
    "for index, row in data.iterrows():\n",
    "    image = cv2.imread('E:/trainingset/archive/resized_train/resized_train/' + row['image'] + '.jpeg')\n",
    "    images.append(preprocess(image))\n",
    "    labels.append(row['level'])\n"
   ]
  },
  {
   "cell_type": "markdown",
   "metadata": {},
   "source": [
    "Split the dataset into training and testing sets"
   ]
  },
  {
   "cell_type": "code",
   "execution_count": 11,
   "metadata": {},
   "outputs": [],
   "source": [
    "X_train, X_test, y_train, y_test = train_test_split(images, labels, test_size=0.2, random_state=42)"
   ]
  },
  {
   "cell_type": "markdown",
   "metadata": {},
   "source": [
    "Build the model"
   ]
  },
  {
   "cell_type": "code",
   "execution_count": 12,
   "metadata": {},
   "outputs": [],
   "source": [
    "model = Sequential()\n",
    "model.add(Conv2D(32, kernel_size=(3, 3), activation='relu', input_shape=(128, 128, 1)))\n",
    "model.add(MaxPooling2D(pool_size=(2, 2)))\n",
    "model.add(Dropout(0.25))\n",
    "model.add(Flatten())\n",
    "model.add(Dense(128, activation='relu'))\n",
    "model.add(Dropout(0.5))\n",
    "model.add(Dense(5, activation='softmax'))"
   ]
  },
  {
   "cell_type": "markdown",
   "metadata": {},
   "source": [
    "Compile and train the model"
   ]
  },
  {
   "cell_type": "code",
   "execution_count": 13,
   "metadata": {},
   "outputs": [
    {
     "name": "stdout",
     "output_type": "stream",
     "text": [
      "Epoch 1/10\n",
      "220/220 [==============================] - 187s 754ms/step - loss: 31.3683 - accuracy: 0.7113\n",
      "Epoch 2/10\n",
      "220/220 [==============================] - 167s 758ms/step - loss: 1.3181 - accuracy: 0.7345\n",
      "Epoch 3/10\n",
      "220/220 [==============================] - 169s 767ms/step - loss: 1.1767 - accuracy: 0.7346\n",
      "Epoch 4/10\n",
      "220/220 [==============================] - 175s 796ms/step - loss: 1.0729 - accuracy: 0.7346\n",
      "Epoch 5/10\n",
      "220/220 [==============================] - 192s 873ms/step - loss: 1.0046 - accuracy: 0.7346\n",
      "Epoch 6/10\n",
      "220/220 [==============================] - 186s 844ms/step - loss: 0.9595 - accuracy: 0.7346\n",
      "Epoch 7/10\n",
      "220/220 [==============================] - 184s 835ms/step - loss: 0.9300 - accuracy: 0.7346\n",
      "Epoch 8/10\n",
      "220/220 [==============================] - 179s 815ms/step - loss: 0.9104 - accuracy: 0.7346\n",
      "Epoch 9/10\n",
      "220/220 [==============================] - 187s 850ms/step - loss: 0.8973 - accuracy: 0.7346\n",
      "Epoch 10/10\n",
      "220/220 [==============================] - 186s 846ms/step - loss: 0.8885 - accuracy: 0.7346\n"
     ]
    },
    {
     "data": {
      "text/plain": [
       "<keras.src.callbacks.History at 0x26acc24a390>"
      ]
     },
     "execution_count": 13,
     "metadata": {},
     "output_type": "execute_result"
    }
   ],
   "source": [
    "model.compile(loss='sparse_categorical_crossentropy', optimizer='adam', metrics=['accuracy'])\n",
    "model.fit(np.array(X_train), np.array(y_train), batch_size=128, epochs=10, verbose=1)"
   ]
  },
  {
   "cell_type": "markdown",
   "metadata": {},
   "source": [
    "Evaluate the model"
   ]
  },
  {
   "cell_type": "code",
   "execution_count": 14,
   "metadata": {},
   "outputs": [
    {
     "name": "stdout",
     "output_type": "stream",
     "text": [
      "Test loss: 0.8815409541130066\n",
      "Test accuracy: 0.7356959581375122\n"
     ]
    }
   ],
   "source": [
    "score = model.evaluate(np.array(X_test), np.array(y_test), verbose=0)\n",
    "print('Test loss:', score[0])\n",
    "print('Test accuracy:', score[1])"
   ]
  }
 ],
 "metadata": {
  "kernelspec": {
   "display_name": "Python 3",
   "language": "python",
   "name": "python3"
  },
  "language_info": {
   "codemirror_mode": {
    "name": "ipython",
    "version": 3
   },
   "file_extension": ".py",
   "mimetype": "text/x-python",
   "name": "python",
   "nbconvert_exporter": "python",
   "pygments_lexer": "ipython3",
   "version": "3.11.4"
  }
 },
 "nbformat": 4,
 "nbformat_minor": 2
}
